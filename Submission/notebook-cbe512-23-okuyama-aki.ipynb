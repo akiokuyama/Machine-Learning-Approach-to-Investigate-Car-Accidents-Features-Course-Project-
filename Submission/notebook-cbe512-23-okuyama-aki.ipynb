{
  "cells": [
    {
      "cell_type": "markdown",
      "source": [
        "## Data Cleaning & Simple Statistical Analysis"
      ],
      "metadata": {
        "id": "CmfoPDG6Gdg8"
      }
    },
    {
      "cell_type": "code",
      "execution_count": null,
      "metadata": {
        "id": "rPSv4_OJMjda"
      },
      "outputs": [],
      "source": [
        "import pandas as pd\n",
        "from sklearn.preprocessing import StandardScaler\n",
        "from sklearn.cluster import KMeans\n",
        "from sklearn.metrics import silhouette_score\n",
        "from sklearn.decomposition import PCA\n",
        "import numpy as np\n",
        "import matplotlib.pyplot as plt\n",
        "from google.colab import drive\n",
        "import seaborn as sns\n",
        "\n",
        "import warnings\n",
        "# Ignore the specific FutureWarning\n",
        "warnings.filterwarnings(\"ignore\", category=FutureWarning)"
      ]
    },
    {
      "cell_type": "code",
      "execution_count": null,
      "metadata": {
        "colab": {
          "base_uri": "https://localhost:8080/"
        },
        "id": "KgSKUPiJMjdc",
        "outputId": "f7dd7b29-b290-4fff-edad-216ad51687d7"
      },
      "outputs": [
        {
          "output_type": "stream",
          "name": "stdout",
          "text": [
            "Mounted at /content/drive\n"
          ]
        },
        {
          "output_type": "stream",
          "name": "stderr",
          "text": [
            "<ipython-input-2-d425f60d9bf3>:2: DtypeWarning: Columns (1,2,5,12) have mixed types. Specify dtype option on import or set low_memory=False.\n",
            "  original_df = pd.read_csv(\"/content/drive/My Drive/CBE512_FinalProject/Original_Data/NCDB_1999_to_2014.csv\")\n"
          ]
        },
        {
          "output_type": "stream",
          "name": "stdout",
          "text": [
            "   C_YEAR C_MNTH C_WDAY C_HOUR  C_SEV C_VEHS C_CONF C_RCFG C_WTHR C_RSUR  ...  \\\n",
            "0    1999      1      1     20      2     02     34     UU      1      5  ...   \n",
            "1    1999      1      1     20      2     02     34     UU      1      5  ...   \n",
            "2    1999      1      1     20      2     02     34     UU      1      5  ...   \n",
            "3    1999      1      1     08      2     01     01     UU      5      3  ...   \n",
            "4    1999      1      1     08      2     01     01     UU      5      3  ...   \n",
            "\n",
            "  V_ID V_TYPE V_YEAR P_ID P_SEX P_AGE P_PSN P_ISEV P_SAFE P_USER  \n",
            "0   01     06   1990   01     M    41    11      1     UU      1  \n",
            "1   02     01   1987   01     M    19    11      1     UU      1  \n",
            "2   02     01   1987   02     F    20    13      2     02      2  \n",
            "3   01     01   1986   01     M    46    11      1     UU      1  \n",
            "4   99     NN   NNNN   01     M    05    99      2     UU      3  \n",
            "\n",
            "[5 rows x 22 columns]\n"
          ]
        }
      ],
      "source": [
        "drive.mount('/content/drive')\n",
        "original_df = pd.read_csv(\"/content/drive/My Drive/CBE512_FinalProject/Original_Data/NCDB_1999_to_2014.csv\")\n",
        "print(original_df.head())"
      ]
    },
    {
      "cell_type": "code",
      "execution_count": null,
      "metadata": {
        "colab": {
          "base_uri": "https://localhost:8080/"
        },
        "id": "TuhRFg8MMjdd",
        "outputId": "fb176efc-2e31-441b-c181-eb5275c0d7f2"
      },
      "outputs": [
        {
          "output_type": "execute_result",
          "data": {
            "text/plain": [
              "Index(['C_YEAR', 'C_MNTH', 'C_WDAY', 'C_HOUR', 'C_SEV', 'C_VEHS', 'C_CONF',\n",
              "       'C_RCFG', 'C_WTHR', 'C_RSUR', 'C_RALN', 'C_TRAF', 'V_ID', 'V_TYPE',\n",
              "       'V_YEAR', 'P_ID', 'P_SEX', 'P_AGE', 'P_PSN', 'P_ISEV', 'P_SAFE',\n",
              "       'P_USER'],\n",
              "      dtype='object')"
            ]
          },
          "metadata": {},
          "execution_count": 3
        }
      ],
      "source": [
        "original_df.columns"
      ]
    },
    {
      "cell_type": "code",
      "execution_count": null,
      "metadata": {
        "colab": {
          "base_uri": "https://localhost:8080/"
        },
        "id": "eYunWB40Mjdd",
        "outputId": "355da912-b235-4914-bc8d-46a20ef8c212"
      },
      "outputs": [
        {
          "output_type": "stream",
          "name": "stdout",
          "text": [
            "  C_HOUR C_CONF C_RCFG C_WTHR C_RSUR C_RALN C_TRAF V_TYPE V_YEAR P_SEX P_AGE\n",
            "0     20     34     UU      1      5      3     03     06   1990     M    41\n",
            "1     20     34     UU      1      5      3     03     01   1987     M    19\n",
            "2     20     34     UU      1      5      3     03     01   1987     F    20\n",
            "3     08     01     UU      5      3      6     18     01   1986     M    46\n",
            "4     08     01     UU      5      3      6     18     NN   NNNN     M    05\n"
          ]
        }
      ],
      "source": [
        "df = original_df[['C_HOUR', 'C_CONF', 'C_RCFG', 'C_WTHR', 'C_RSUR', 'C_RALN', 'C_TRAF',\n",
        "                       'V_TYPE', 'V_YEAR', 'P_SEX', 'P_AGE']]\n",
        "\n",
        "print(df.head())"
      ]
    },
    {
      "cell_type": "code",
      "execution_count": null,
      "metadata": {
        "colab": {
          "base_uri": "https://localhost:8080/"
        },
        "id": "WLyPKQ5iMjdd",
        "outputId": "4863e55d-0c1c-4265-c4dd-20efe57a3187"
      },
      "outputs": [
        {
          "output_type": "execute_result",
          "data": {
            "text/plain": [
              "C_HOUR    object\n",
              "C_CONF    object\n",
              "C_RCFG    object\n",
              "C_WTHR    object\n",
              "C_RSUR    object\n",
              "C_RALN    object\n",
              "C_TRAF    object\n",
              "V_TYPE    object\n",
              "V_YEAR    object\n",
              "P_SEX     object\n",
              "P_AGE     object\n",
              "dtype: object"
            ]
          },
          "metadata": {},
          "execution_count": 5
        }
      ],
      "source": [
        "df.dtypes"
      ]
    },
    {
      "cell_type": "code",
      "source": [
        "df = df[~df['C_HOUR'].isin(['UU', 'XX'])]\n",
        "unique_values = df['C_HOUR'].unique()\n",
        "print(unique_values)"
      ],
      "metadata": {
        "colab": {
          "base_uri": "https://localhost:8080/"
        },
        "id": "kpG6EiPw-XeH",
        "outputId": "afc6d709-8cd3-4403-b5aa-774330072a73"
      },
      "execution_count": null,
      "outputs": [
        {
          "output_type": "stream",
          "name": "stdout",
          "text": [
            "['20' '08' '17' '15' '14' '01' '11' '13' '19' '16' '09' '02' '18' '12'\n",
            " '10' '23' '00' '06' '07' '21' '05' '22' '03' '04']\n"
          ]
        }
      ]
    },
    {
      "cell_type": "code",
      "source": [
        "df = df[~df['C_CONF'].isin(['QQ', 'UU', 'XX'])]\n",
        "unique_values = df['C_CONF'].unique()\n",
        "print(unique_values)"
      ],
      "metadata": {
        "colab": {
          "base_uri": "https://localhost:8080/"
        },
        "id": "CCWr6kGp-dBx",
        "outputId": "bfea742c-5d10-4b07-85d7-3955e605d346"
      },
      "execution_count": null,
      "outputs": [
        {
          "output_type": "stream",
          "name": "stdout",
          "text": [
            "['34' '01' '04' '31' '21' '23' '03' '02' '33' '24' '35' '41' '06' '32'\n",
            " '36' '05' '22' '25']\n"
          ]
        }
      ]
    },
    {
      "cell_type": "code",
      "execution_count": null,
      "metadata": {
        "colab": {
          "base_uri": "https://localhost:8080/"
        },
        "id": "EGHbI-q6Mjdd",
        "outputId": "aac42dbe-3a94-4c3e-95d7-5d06aa11abd9"
      },
      "outputs": [
        {
          "output_type": "stream",
          "name": "stdout",
          "text": [
            "['02' '03' '05' '01' '04' '06' '08' '07' '09' '10']\n"
          ]
        }
      ],
      "source": [
        "df = df[~df['C_RCFG'].isin(['QQ', 'UU', 'XX'])]\n",
        "unique_values = df['C_RCFG'].unique()\n",
        "print(unique_values)"
      ]
    },
    {
      "cell_type": "code",
      "execution_count": null,
      "metadata": {
        "colab": {
          "base_uri": "https://localhost:8080/"
        },
        "id": "sCVvIOOLMjde",
        "outputId": "80dfe369-0c0b-4f4f-bb27-980c44932d2d"
      },
      "outputs": [
        {
          "output_type": "stream",
          "name": "stdout",
          "text": [
            "['1' '3' '4' '2' '6' '5' '7']\n"
          ]
        }
      ],
      "source": [
        "df = df[~df['C_WTHR'].isin(['Q', 'U'])]\n",
        "unique_values = df['C_WTHR'].unique()\n",
        "print(unique_values)"
      ]
    },
    {
      "cell_type": "code",
      "execution_count": null,
      "metadata": {
        "colab": {
          "base_uri": "https://localhost:8080/"
        },
        "id": "2ztR9ifGMjde",
        "outputId": "22c77102-37ac-4dd4-8680-99636e237c04"
      },
      "outputs": [
        {
          "output_type": "stream",
          "name": "stdout",
          "text": [
            "['1' '2' '5' '3' '7' '4' '6' '8' '9']\n"
          ]
        }
      ],
      "source": [
        "df = df[~df['C_RSUR'].isin(['Q', 'U'])]\n",
        "unique_values = df['C_RSUR'].unique()\n",
        "print(unique_values)"
      ]
    },
    {
      "cell_type": "code",
      "execution_count": null,
      "metadata": {
        "colab": {
          "base_uri": "https://localhost:8080/"
        },
        "id": "ZTZSe34xMjde",
        "outputId": "47d476bf-8fae-45f5-b96b-c17df56de967"
      },
      "outputs": [
        {
          "output_type": "stream",
          "name": "stdout",
          "text": [
            "['1' '3' '4' '2' '5' '6']\n"
          ]
        }
      ],
      "source": [
        "df = df[~df['C_RALN'].isin(['Q', 'U'])]\n",
        "unique_values = df['C_RALN'].unique()\n",
        "print(unique_values)"
      ]
    },
    {
      "cell_type": "code",
      "execution_count": null,
      "metadata": {
        "colab": {
          "base_uri": "https://localhost:8080/"
        },
        "id": "ysTvlqnOMjde",
        "outputId": "05a1ca87-7ffe-45d6-d8a3-d27fb111719c"
      },
      "outputs": [
        {
          "output_type": "stream",
          "name": "stdout",
          "text": [
            "['01' '05' '18' '06' '03' '04' '07' '08' '10' '16' '02' '13' '11' '15'\n",
            " '17' '09' '12']\n"
          ]
        }
      ],
      "source": [
        "df = df[~df['C_TRAF'].isin(['UU', 'QQ'])]\n",
        "unique_values = df['C_TRAF'].unique()\n",
        "print(unique_values)"
      ]
    },
    {
      "cell_type": "code",
      "execution_count": null,
      "metadata": {
        "colab": {
          "base_uri": "https://localhost:8080/"
        },
        "id": "lNk5jla2Mjde",
        "outputId": "404f75da-5c2a-4eef-f2eb-4846ce8bd27d"
      },
      "outputs": [
        {
          "output_type": "stream",
          "name": "stdout",
          "text": [
            "['01' '06' '07' '17' '11' '08' '20' '09' '22' '14' '05' '16' '23' '19'\n",
            " '18' '10' '21']\n"
          ]
        }
      ],
      "source": [
        "df = df[~df['V_TYPE'].isin(['UU', 'QQ', 'NN'])]\n",
        "unique_values = df['V_TYPE'].unique()\n",
        "print(unique_values)"
      ]
    },
    {
      "cell_type": "code",
      "source": [
        "df = df[~df['V_YEAR'].isin(['UUUU', 'QQQQ', 'NNNN'])]\n",
        "unique_values = df['V_YEAR'].unique()\n",
        "print(unique_values)"
      ],
      "metadata": {
        "colab": {
          "base_uri": "https://localhost:8080/"
        },
        "id": "aO0OCI46-iNE",
        "outputId": "6e9ad4ba-8ca1-4bc4-ee2b-fa1256b5dd3b"
      },
      "execution_count": null,
      "outputs": [
        {
          "output_type": "stream",
          "name": "stdout",
          "text": [
            "['1992' '1988' '1995' '1989' '1994' '1986' '1990' '1998' '1991' '1984'\n",
            " '1993' '1987' '1997' '1985' '1996' '1999' '1977' '1978' '1981' '1972'\n",
            " '1983' '2000' '1979' '1976' '1982' '1975' '1973' '1974' '1980' '1967'\n",
            " '1970' '1971' '1968' '1969' '1966' '1945' '1960' '1950' '1965' '1959'\n",
            " '1955' '1958' '1964' '1909' '1949' '1923' '1963' '1961' '1914' '1908'\n",
            " '1953' '1906' '1939' '1925' '1948' '1962' '1938' '1907' '1917' '1912'\n",
            " '1944' '1956' '1930' '1931' '1951' '1946' '1952' '1947' '1957' '1954'\n",
            " '1901' '1937' '1935' '1926' '1941' '1932' '1920' '1903' '1933' '1919'\n",
            " '2001' '1913' '1940' '2002' '1916' '1929' '1928' '1942' '1918' '2003'\n",
            " '1924' '1922' '1915' '1934' '2004' '2005' '1927' '2006' '2007' '2008'\n",
            " '1943' '2009' '2010' '2011' '1911' '2012' '2013' '1921' '2014' '2015']\n"
          ]
        }
      ]
    },
    {
      "cell_type": "code",
      "source": [
        "df = df[~df['P_SEX'].isin(['U', 'X', 'N'])]\n",
        "# Create a dictionary to map values\n",
        "sex_mapping = {'F': 1, 'M': 2}\n",
        "# Replace the 'P_SEX' column with the dummy variable values\n",
        "df['P_SEX'] = df['P_SEX'].map(sex_mapping)\n",
        "unique_values = df['P_SEX'].unique()\n",
        "print(unique_values)"
      ],
      "metadata": {
        "colab": {
          "base_uri": "https://localhost:8080/"
        },
        "id": "danLspNu-md9",
        "outputId": "b06a56e1-c40e-4a7f-c4be-c00c045d9a02"
      },
      "execution_count": null,
      "outputs": [
        {
          "output_type": "stream",
          "name": "stdout",
          "text": [
            "[1 2]\n"
          ]
        }
      ]
    },
    {
      "cell_type": "code",
      "source": [
        "df = df[~df['P_AGE'].isin(['UU', 'XX', 'NN'])]\n",
        "unique_values = df['P_AGE'].unique()\n",
        "print(unique_values)"
      ],
      "metadata": {
        "colab": {
          "base_uri": "https://localhost:8080/"
        },
        "id": "_XdbxvNB-vfI",
        "outputId": "9a9b6c87-20c4-4367-e25b-968ca934959b"
      },
      "execution_count": null,
      "outputs": [
        {
          "output_type": "stream",
          "name": "stdout",
          "text": [
            "['33' '70' '38' '34' '30' '18' '83' '68' '28' '37' '50' '20' '53' '71'\n",
            " '26' '51' '41' '63' '25' '23' '55' '36' '16' '35' '60' '13' '31' '64'\n",
            " '44' '61' '65' '75' '48' '79' '46' '32' '62' '52' '49' '85' '42' '21'\n",
            " '17' '19' '40' '29' '92' '57' '86' '69' '74' '59' '43' '54' '15' '12'\n",
            " '76' '39' '73' '04' '27' '47' '22' '58' '78' '66' '45' '80' '24' '82'\n",
            " '11' '07' '72' '56' '14' '84' '67' '01' '77' '09' '02' '10' '06' '08'\n",
            " '03' '05' '81' '89' '87' '88' '95' '90' '91' '94' '99' '93' '98' '96'\n",
            " '97']\n"
          ]
        }
      ]
    },
    {
      "cell_type": "code",
      "execution_count": null,
      "metadata": {
        "colab": {
          "base_uri": "https://localhost:8080/"
        },
        "id": "CbfrWikbMjde",
        "outputId": "3500cc46-42be-417a-a3bd-2694007dd954"
      },
      "outputs": [
        {
          "output_type": "execute_result",
          "data": {
            "text/plain": [
              "C_HOUR    int64\n",
              "C_CONF    int64\n",
              "C_RCFG    int64\n",
              "C_WTHR    int64\n",
              "C_RSUR    int64\n",
              "C_RALN    int64\n",
              "C_TRAF    int64\n",
              "V_TYPE    int64\n",
              "V_YEAR    int64\n",
              "P_SEX     int64\n",
              "P_AGE     int64\n",
              "dtype: object"
            ]
          },
          "metadata": {},
          "execution_count": 17
        }
      ],
      "source": [
        "for column_name in df.select_dtypes(include=['object']).columns:\n",
        "    df[column_name] = pd.to_numeric(df[column_name], errors='coerce')\n",
        "df.dtypes"
      ]
    },
    {
      "cell_type": "code",
      "execution_count": null,
      "metadata": {
        "colab": {
          "base_uri": "https://localhost:8080/"
        },
        "id": "pmZWFJbAMjdf",
        "outputId": "ec2ee534-8d93-459d-8a58-42efb9a7f10d"
      },
      "outputs": [
        {
          "output_type": "execute_result",
          "data": {
            "text/plain": [
              "3853678"
            ]
          },
          "metadata": {},
          "execution_count": 18
        }
      ],
      "source": [
        "column_name_mapping = {\n",
        "    'C_HOUR': 'Hour',\n",
        "    'C_CONF': 'Colision_Configuration',\n",
        "    'C_RCFG': 'Rd_Configuration',\n",
        "    'C_WTHR': 'Weather',\n",
        "    'C_RSUR': 'Rd_Surface',\n",
        "    'C_RALN': 'Rd_Alignment',\n",
        "    'C_TRAF': 'Trafic_Control',\n",
        "    'V_TYPE': 'Vehicle_Type',\n",
        "    'V_YEAR': 'Vehicle_Year',\n",
        "    'P_SEX': 'Driver_Sex',\n",
        "    'P_AGE': 'Driver_Age'\n",
        "}\n",
        "\n",
        "# Rename the columns using the rename() method\n",
        "df.rename(columns=column_name_mapping, inplace=True)\n",
        "\n",
        "# Print the number of rows\n",
        "df.shape[0]"
      ]
    },
    {
      "cell_type": "code",
      "execution_count": null,
      "metadata": {
        "colab": {
          "base_uri": "https://localhost:8080/"
        },
        "id": "ZagRjOXOMjdf",
        "outputId": "0e76cfd6-7d62-4837-9261-5ef10e21fb8d"
      },
      "outputs": [
        {
          "output_type": "stream",
          "name": "stdout",
          "text": [
            "Range of each column:\n",
            "Hour: Min=0, Max=23, Range=23\n",
            "Colision_Configuration: Min=1, Max=41, Range=40\n",
            "Rd_Configuration: Min=1, Max=10, Range=9\n",
            "Weather: Min=1, Max=7, Range=6\n",
            "Rd_Surface: Min=1, Max=9, Range=8\n",
            "Rd_Alignment: Min=1, Max=6, Range=5\n",
            "Trafic_Control: Min=1, Max=18, Range=17\n",
            "Vehicle_Type: Min=1, Max=23, Range=22\n",
            "Vehicle_Year: Min=1901, Max=2015, Range=114\n",
            "Driver_Sex: Min=1, Max=2, Range=1\n",
            "Driver_Age: Min=1, Max=99, Range=98\n"
          ]
        }
      ],
      "source": [
        "# Calculate the range for each column\n",
        "column_ranges = df.max() - df.min()\n",
        "\n",
        "# Print the range for each column\n",
        "print(\"Range of each column:\")\n",
        "for column in df.columns:\n",
        "    min_value = df[column].min()\n",
        "    max_value = df[column].max()\n",
        "    range_value = max_value - min_value\n",
        "    print(f\"{column}: Min={min_value}, Max={max_value}, Range={range_value}\")"
      ]
    },
    {
      "cell_type": "code",
      "execution_count": null,
      "metadata": {
        "id": "40Kq52YMMjdf"
      },
      "outputs": [],
      "source": [
        "# Randomly select 10,000 rows from the DataFrame\n",
        "df = df.sample(n=10000, random_state=42)"
      ]
    },
    {
      "cell_type": "markdown",
      "source": [
        "## Unsupervised Clustering"
      ],
      "metadata": {
        "id": "2ajS0Gp5GZ7i"
      }
    },
    {
      "cell_type": "code",
      "source": [
        "# Create a StandardScaler object\n",
        "scaler = StandardScaler()\n",
        "# Fit and transform your data\n",
        "scaled_data = scaler.fit_transform(df)"
      ],
      "metadata": {
        "id": "V25p30JuGYmp"
      },
      "execution_count": null,
      "outputs": []
    },
    {
      "cell_type": "code",
      "execution_count": null,
      "metadata": {
        "id": "SLsHV2k4Mjdf"
      },
      "outputs": [],
      "source": [
        "# Reduce the dimensionality to 2 using PCA\n",
        "pca = PCA(n_components = 2)\n",
        "reduced_data = pca.fit_transform(scaled_data)"
      ]
    },
    {
      "cell_type": "code",
      "execution_count": null,
      "metadata": {
        "colab": {
          "base_uri": "https://localhost:8080/"
        },
        "id": "TORxfulfMjdf",
        "outputId": "f27aff1f-cc56-44fb-8d90-e97a50160c19"
      },
      "outputs": [
        {
          "output_type": "stream",
          "name": "stdout",
          "text": [
            "Number of Clusters: 2, Silhoutte Score: 0.1430791457087829\n",
            "Number of Clusters: 3, Silhoutte Score: 0.14129998900313898\n",
            "Number of Clusters: 4, Silhoutte Score: 0.14570514916506758\n",
            "Number of Clusters: 5, Silhoutte Score: 0.14218832842477772\n",
            "Number of Clusters: 6, Silhoutte Score: 0.1354269822944501\n",
            "Best Number of Clusters: 4, Best Silhouette Score: 0.14570514916506758\n"
          ]
        }
      ],
      "source": [
        "# Define a range of cluster numbers to try\n",
        "cluster_range = range(2,7)\n",
        "silhouette_scores = []\n",
        "\n",
        "best_score = -1 # initiallize the silhoutte score\n",
        "best_num_clusters = None\n",
        "\n",
        "# Loop through different numbers of clusters\n",
        "for num_clusters in cluster_range:\n",
        "    kmeans = KMeans(n_clusters = num_clusters, random_state=0)\n",
        "    kmeans.fit(reduced_data)\n",
        "    cluster_labels = kmeans.labels_\n",
        "    score = silhouette_score(reduced_data, cluster_labels)\n",
        "    silhouette_scores.append(score)\n",
        "\n",
        "    print(f\"Number of Clusters: {num_clusters}, Silhoutte Score: {score}\")\n",
        "    # Update the best score and number of clusters if the current score is higher\n",
        "    if score > best_score:\n",
        "        best_score = score\n",
        "        best_num_clusters = num_clusters\n",
        "\n",
        "print(f\"Best Number of Clusters: {best_num_clusters}, Best Silhouette Score: {best_score}\")"
      ]
    },
    {
      "cell_type": "code",
      "source": [
        "# Plot the best clustering result\n",
        "kmeans_best = KMeans(n_clusters = best_num_clusters, random_state=0)\n",
        "kmeans_best.fit(reduced_data)\n",
        "cluster_labels_best = kmeans_best.labels_\n",
        "\n",
        "# Create a list of unique cluster labels\n",
        "unique_labels = list(set(cluster_labels_best))\n",
        "# Create a legend entry for each cluster\n",
        "legend_labels = [f'Cluster {label}' for label in unique_labels]\n",
        "\n",
        "colors = ['red', 'green', 'blue', 'purple']\n",
        "\n",
        "# Plot the clusters\n",
        "plt.figure(figsize=(10, 6))\n",
        "for label, color in zip(unique_labels, colors):\n",
        "    plt.scatter(reduced_data[cluster_labels_best == label, 0], reduced_data[cluster_labels_best == label, 1], c=color, label=f'Cluster {label}', alpha=0.5)\n",
        "\n",
        "plt.xlabel(\"PCA Dimension 1\")\n",
        "plt.ylabel(\"PCA Dimension 2\")\n",
        "plt.title(f\"K-Means Clustering with {best_num_clusters} Clusters (Best Results)\")\n",
        "\n",
        "# Add the legend\n",
        "plt.legend(title='Cluster Legend', labels=legend_labels)\n",
        "\n",
        "plt.show()\n"
      ],
      "metadata": {
        "colab": {
          "base_uri": "https://localhost:8080/",
          "height": 564
        },
        "id": "6P2_Jb8uXI3e",
        "outputId": "4382c426-52d5-4212-8cc1-28af495a329f"
      },
      "execution_count": null,
      "outputs": [
        {
          "output_type": "display_data",
          "data": {
            "text/plain": [
              "<Figure size 1000x600 with 1 Axes>"
            ],
            "image/png": "[encoded data removed]"
          },
          "metadata": {}
        }
      ]
    },
    {
      "cell_type": "code",
      "source": [
        "# Plot the silhouette scores for different values of k\n",
        "plt.figure(figsize=(10, 6))\n",
        "plt.plot(cluster_range, silhouette_scores, marker='o', linestyle='-', color='b')\n",
        "plt.xlabel('Number of Clusters (k)')\n",
        "plt.ylabel('Silhouette Score')\n",
        "plt.title('Silhouette Score vs. Number of Clusters (k)')\n",
        "plt.grid(True)\n",
        "plt.show()"
      ],
      "metadata": {
        "colab": {
          "base_uri": "https://localhost:8080/",
          "height": 564
        },
        "id": "sfqlhJ2UaokU",
        "outputId": "8c210959-c928-4696-8aaa-d30103e623c3"
      },
      "execution_count": null,
      "outputs": [
        {
          "output_type": "display_data",
          "data": {
            "text/plain": [
              "<Figure size 1000x600 with 1 Axes>"
            ],
            "image/png": "[encoded data removed]"
          },
          "metadata": {}
        }
      ]
    },
    {
      "cell_type": "code",
      "source": [
        "# Get the loadings for the principal component (PC1 & PC2)\n",
        "pc1_loadings = pca.components_[0]\n",
        "pc2_loadings = pca.components_[1]\n",
        "\n",
        "# Create a DataFrame to display the loadings\n",
        "loadings_df = pd.DataFrame({'Feature': df.columns, \"PC1 Loadings\": pc1_loadings, \"PC2 Loadings\": pc2_loadings})\n",
        "print(loadings_df)"
      ],
      "metadata": {
        "colab": {
          "base_uri": "https://localhost:8080/"
        },
        "id": "TSp96pkGYwvr",
        "outputId": "4e550a98-fb96-47fa-e51b-68836a99e171"
      },
      "execution_count": null,
      "outputs": [
        {
          "output_type": "stream",
          "name": "stdout",
          "text": [
            "                   Feature  PC1 Loadings  PC2 Loadings\n",
            "0                     Hour     -0.124580      0.014943\n",
            "1   Colision_Configuration     -0.465183      0.264468\n",
            "2         Rd_Configuration     -0.408622      0.284918\n",
            "3                  Weather      0.337478      0.603061\n",
            "4               Rd_Surface      0.373553      0.581167\n",
            "5             Rd_Alignment      0.322096     -0.081570\n",
            "6           Trafic_Control      0.476769     -0.258628\n",
            "7             Vehicle_Type      0.077641     -0.217727\n",
            "8             Vehicle_Year      0.003278     -0.009836\n",
            "9               Driver_Sex      0.062739     -0.157869\n",
            "10              Driver_Age     -0.081543      0.035370\n"
          ]
        }
      ]
    },
    {
      "cell_type": "code",
      "source": [
        "# Iterate through each column and find the most frequent values\n",
        "most_frequent_values = {}\n",
        "for column in df.columns:\n",
        "    most_frequent_value = df[column].value_counts().idxmax()  # Find the most frequent value\n",
        "    most_frequent_count = df[column].value_counts().max()     # Find its count\n",
        "    most_frequent_values[column] = {\n",
        "        'Most Frequent Value': most_frequent_value,\n",
        "        'Count': most_frequent_count\n",
        "    }\n",
        "\n",
        "# Create a dictionary to map column names to descriptions\n",
        "column_descriptions = {\n",
        "    'Hour': '16:00 to 16:59',\n",
        "    'Colision_Configuration': 'Rear-end collision',\n",
        "    'Rd_Configuration': 'At an intersection of at least two public roadways',\n",
        "    'Weather': 'Clear and sunny',\n",
        "    'Rd_Surface': 'Dry, normal',\n",
        "    'Rd_Alignment': 'Straight and level',\n",
        "    'Trafic_Control': 'No control present',\n",
        "    'Vehicle_Type': 'Light Duty Vehicle',\n",
        "    'Vehicle_Year': '2000',\n",
        "    'Driver_Sex': 'Female',\n",
        "    'Driver_Age': '18'\n",
        "    # Add more column names and descriptions as needed\n",
        "}\n",
        "\n",
        "\n",
        "# Convert the result to a DataFrame for display\n",
        "most_frequent_df = pd.DataFrame.from_dict(most_frequent_values, orient='index')\n",
        "most_frequent_df['Description'] = most_frequent_df.index.map(column_descriptions)\n",
        "\n",
        "# Display the most frequent values for each column\n",
        "print(\"Most Frequent Values in Each Column:\")\n",
        "print(most_frequent_df)"
      ],
      "metadata": {
        "colab": {
          "base_uri": "https://localhost:8080/"
        },
        "id": "SToml5sOdx7s",
        "outputId": "bdde6270-8df9-4432-b0f7-8e0af2256ff1"
      },
      "execution_count": null,
      "outputs": [
        {
          "output_type": "stream",
          "name": "stdout",
          "text": [
            "Most Frequent Values in Each Column:\n",
            "                        Most Frequent Value  Count  \\\n",
            "Hour                                     16    915   \n",
            "Colision_Configuration                   21   3427   \n",
            "Rd_Configuration                          2   5364   \n",
            "Weather                                   1   7102   \n",
            "Rd_Surface                                1   6763   \n",
            "Rd_Alignment                              1   7751   \n",
            "Trafic_Control                           18   5376   \n",
            "Vehicle_Type                              1   8938   \n",
            "Vehicle_Year                           2000    623   \n",
            "Driver_Sex                                2   5631   \n",
            "Driver_Age                               18    317   \n",
            "\n",
            "                                                              Description  \n",
            "Hour                                                       16:00 to 16:59  \n",
            "Colision_Configuration                                 Rear-end collision  \n",
            "Rd_Configuration        At an intersection of at least two public road...  \n",
            "Weather                                                   Clear and sunny  \n",
            "Rd_Surface                                                    Dry, normal  \n",
            "Rd_Alignment                                           Straight and level  \n",
            "Trafic_Control                                         No control present  \n",
            "Vehicle_Type                                           Light Duty Vehicle  \n",
            "Vehicle_Year                                                         2000  \n",
            "Driver_Sex                                                         Female  \n",
            "Driver_Age                                                             18  \n"
          ]
        }
      ]
    },
    {
      "cell_type": "markdown",
      "source": [
        "### Simply checking the most frequent value dose not present meaningful insight. The most frequent weather condition is clear and sunny, which is the most frequent weather pattern in the real life."
      ],
      "metadata": {
        "id": "_ZPH2znQpwWG"
      }
    },
    {
      "cell_type": "code",
      "source": [
        "from sklearn.datasets import make_blobs\n",
        "from sklearn.metrics import pairwise_distances\n",
        "\n",
        "# Fit a K-Means clustering model to the reduced data\n",
        "kmeans = KMeans(n_clusters=4, random_state=0)\n",
        "kmeans.fit(reduced_data)\n",
        "cluster_labels = kmeans.labels_\n",
        "cluster_centers = kmeans.cluster_centers_\n",
        "\n",
        "# Calculate inter-cluster distances using Euclidean distance\n",
        "inter_cluster_distances = pairwise_distances(cluster_centers, metric='euclidean')\n",
        "\n",
        "# Display inter-cluster distances as a distance matrix\n",
        "print(\"Inter-Cluster Distances (Euclidean):\")\n",
        "print(inter_cluster_distances)"
      ],
      "metadata": {
        "colab": {
          "base_uri": "https://localhost:8080/"
        },
        "id": "eE4LO4LquQwp",
        "outputId": "010d912b-5c1c-4bb1-d0fb-aeb1a3d16553"
      },
      "execution_count": null,
      "outputs": [
        {
          "output_type": "stream",
          "name": "stdout",
          "text": [
            "Inter-Cluster Distances (Euclidean):\n",
            "[[0.         2.27549225 2.99842094 2.9984239 ]\n",
            " [2.27549225 0.         3.92772418 2.11660428]\n",
            " [2.99842094 3.92772418 0.         2.55932094]\n",
            " [2.9984239  2.11660428 2.55932094 0.        ]]\n"
          ]
        }
      ]
    },
    {
      "cell_type": "code",
      "source": [
        "# Add the 'Cluster' column to the DataFrame\n",
        "df['Cluster'] = cluster_labels_best"
      ],
      "metadata": {
        "id": "UCs5KHPVA-08"
      },
      "execution_count": null,
      "outputs": []
    },
    {
      "cell_type": "code",
      "source": [
        "# Explore Cluster Statistics\n",
        "cluster_stats = df.groupby('Cluster').agg({\n",
        "    'Hour': lambda x: x.mode().iloc[0],\n",
        "    'Colision_Configuration': lambda x: x.mode().iloc[0],\n",
        "    'Rd_Configuration': lambda x: x.mode().iloc[0],  # Calculate the most frequent values\n",
        "    'Weather': lambda x: x.mode().iloc[0],\n",
        "    'Rd_Surface': lambda x: x.mode().iloc[0],\n",
        "    'Rd_Alignment': lambda x: x.mode().iloc[0],\n",
        "    'Trafic_Control': lambda x: x.mode().iloc[0],\n",
        "    'Vehicle_Type': lambda x: x.mode().iloc[0],\n",
        "    'Vehicle_Year': lambda x: x.mode().iloc[0],\n",
        "    'Driver_Sex': lambda x: x.mode().iloc[0],\n",
        "    'Driver_Age': lambda x: x.mode().iloc[0]\n",
        "})\n",
        "\n",
        "cluster_stats"
      ],
      "metadata": {
        "colab": {
          "base_uri": "https://localhost:8080/",
          "height": 226
        },
        "id": "UCky9UFMqfEp",
        "outputId": "11b95b03-9116-4ae1-82e5-222a5a9b2adf"
      },
      "execution_count": null,
      "outputs": [
        {
          "output_type": "execute_result",
          "data": {
            "text/plain": [
              "         Hour  Colision_Configuration  Rd_Configuration  Weather  Rd_Surface  \\\n",
              "Cluster                                                                        \n",
              "0          16                      21                 1        1           1   \n",
              "1          16                      21                 2        1           1   \n",
              "2          16                      21                 1        4           2   \n",
              "3          17                      21                 2        3           2   \n",
              "\n",
              "         Rd_Alignment  Trafic_Control  Vehicle_Type  Vehicle_Year  Driver_Sex  \\\n",
              "Cluster                                                                         \n",
              "0                   1              18             1          2002           2   \n",
              "1                   1               1             1          2002           2   \n",
              "2                   1              18             1          2000           2   \n",
              "3                   1               1             1          2000           1   \n",
              "\n",
              "         Driver_Age  \n",
              "Cluster              \n",
              "0                18  \n",
              "1                17  \n",
              "2                19  \n",
              "3                18  "
            ],
            "text/html": [
              "\n",
              "  <div id=\"df-582f8890-3e63-4e52-bcc6-4ab9b6f6f9ca\" class=\"colab-df-container\">\n",
              "    <div>\n",
              "<style scoped>\n",
              "    .dataframe tbody tr th:only-of-type {\n",
              "        vertical-align: middle;\n",
              "    }\n",
              "\n",
              "    .dataframe tbody tr th {\n",
              "        vertical-align: top;\n",
              "    }\n",
              "\n",
              "    .dataframe thead th {\n",
              "        text-align: right;\n",
              "    }\n",
              "</style>\n",
              "<table border=\"1\" class=\"dataframe\">\n",
              "  <thead>\n",
              "    <tr style=\"text-align: right;\">\n",
              "      <th></th>\n",
              "      <th>Hour</th>\n",
              "      <th>Colision_Configuration</th>\n",
              "      <th>Rd_Configuration</th>\n",
              "      <th>Weather</th>\n",
              "      <th>Rd_Surface</th>\n",
              "      <th>Rd_Alignment</th>\n",
              "      <th>Trafic_Control</th>\n",
              "      <th>Vehicle_Type</th>\n",
              "      <th>Vehicle_Year</th>\n",
              "      <th>Driver_Sex</th>\n",
              "      <th>Driver_Age</th>\n",
              "    </tr>\n",
              "    <tr>\n",
              "      <th>Cluster</th>\n",
              "      <th></th>\n",
              "      <th></th>\n",
              "      <th></th>\n",
              "      <th></th>\n",
              "      <th></th>\n",
              "      <th></th>\n",
              "      <th></th>\n",
              "      <th></th>\n",
              "      <th></th>\n",
              "      <th></th>\n",
              "      <th></th>\n",
              "    </tr>\n",
              "  </thead>\n",
              "  <tbody>\n",
              "    <tr>\n",
              "      <th>0</th>\n",
              "      <td>16</td>\n",
              "      <td>21</td>\n",
              "      <td>1</td>\n",
              "      <td>1</td>\n",
              "      <td>1</td>\n",
              "      <td>1</td>\n",
              "      <td>18</td>\n",
              "      <td>1</td>\n",
              "      <td>2002</td>\n",
              "      <td>2</td>\n",
              "      <td>18</td>\n",
              "    </tr>\n",
              "    <tr>\n",
              "      <th>1</th>\n",
              "      <td>16</td>\n",
              "      <td>21</td>\n",
              "      <td>2</td>\n",
              "      <td>1</td>\n",
              "      <td>1</td>\n",
              "      <td>1</td>\n",
              "      <td>1</td>\n",
              "      <td>1</td>\n",
              "      <td>2002</td>\n",
              "      <td>2</td>\n",
              "      <td>17</td>\n",
              "    </tr>\n",
              "    <tr>\n",
              "      <th>2</th>\n",
              "      <td>16</td>\n",
              "      <td>21</td>\n",
              "      <td>1</td>\n",
              "      <td>4</td>\n",
              "      <td>2</td>\n",
              "      <td>1</td>\n",
              "      <td>18</td>\n",
              "      <td>1</td>\n",
              "      <td>2000</td>\n",
              "      <td>2</td>\n",
              "      <td>19</td>\n",
              "    </tr>\n",
              "    <tr>\n",
              "      <th>3</th>\n",
              "      <td>17</td>\n",
              "      <td>21</td>\n",
              "      <td>2</td>\n",
              "      <td>3</td>\n",
              "      <td>2</td>\n",
              "      <td>1</td>\n",
              "      <td>1</td>\n",
              "      <td>1</td>\n",
              "      <td>2000</td>\n",
              "      <td>1</td>\n",
              "      <td>18</td>\n",
              "    </tr>\n",
              "  </tbody>\n",
              "</table>\n",
              "</div>\n",
              "    <div class=\"colab-df-buttons\">\n",
              "\n",
              "  <div class=\"colab-df-container\">\n",
              "    <button class=\"colab-df-convert\" onclick=\"convertToInteractive('df-582f8890-3e63-4e52-bcc6-4ab9b6f6f9ca')\"\n",
              "            title=\"Convert this dataframe to an interactive table.\"\n",
              "            style=\"display:none;\">\n",
              "\n",
              "  <svg xmlns=\"http://www.w3.org/2000/svg\" height=\"24px\" viewBox=\"0 -960 960 960\">\n",
              "    <path d=\"M120-120v-720h720v720H120Zm60-500h600v-160H180v160Zm220 220h160v-160H400v160Zm0 220h160v-160H400v160ZM180-400h160v-160H180v160Zm440 0h160v-160H620v160ZM180-180h160v-160H180v160Zm440 0h160v-160H620v160Z\"/>\n",
              "  </svg>\n",
              "    </button>\n",
              "\n",
              "  <style>\n",
              "    .colab-df-container {\n",
              "      display:flex;\n",
              "      gap: 12px;\n",
              "    }\n",
              "\n",
              "    .colab-df-convert {\n",
              "      background-color: #E8F0FE;\n",
              "      border: none;\n",
              "      border-radius: 50%;\n",
              "      cursor: pointer;\n",
              "      display: none;\n",
              "      fill: #1967D2;\n",
              "      height: 32px;\n",
              "      padding: 0 0 0 0;\n",
              "      width: 32px;\n",
              "    }\n",
              "\n",
              "    .colab-df-convert:hover {\n",
              "      background-color: #E2EBFA;\n",
              "      box-shadow: 0px 1px 2px rgba(60, 64, 67, 0.3), 0px 1px 3px 1px rgba(60, 64, 67, 0.15);\n",
              "      fill: #174EA6;\n",
              "    }\n",
              "\n",
              "    .colab-df-buttons div {\n",
              "      margin-bottom: 4px;\n",
              "    }\n",
              "\n",
              "    [theme=dark] .colab-df-convert {\n",
              "      background-color: #3B4455;\n",
              "      fill: #D2E3FC;\n",
              "    }\n",
              "\n",
              "    [theme=dark] .colab-df-convert:hover {\n",
              "      background-color: #434B5C;\n",
              "      box-shadow: 0px 1px 3px 1px rgba(0, 0, 0, 0.15);\n",
              "      filter: drop-shadow(0px 1px 2px rgba(0, 0, 0, 0.3));\n",
              "      fill: #FFFFFF;\n",
              "    }\n",
              "  </style>\n",
              "\n",
              "    <script>\n",
              "      const buttonEl =\n",
              "        document.querySelector('#df-582f8890-3e63-4e52-bcc6-4ab9b6f6f9ca button.colab-df-convert');\n",
              "      buttonEl.style.display =\n",
              "        google.colab.kernel.accessAllowed ? 'block' : 'none';\n",
              "\n",
              "      async function convertToInteractive(key) {\n",
              "        const element = document.querySelector('#df-582f8890-3e63-4e52-bcc6-4ab9b6f6f9ca');\n",
              "        const dataTable =\n",
              "          await google.colab.kernel.invokeFunction('convertToInteractive',\n",
              "                                                    [key], {});\n",
              "        if (!dataTable) return;\n",
              "\n",
              "        const docLinkHtml = 'Like what you see? Visit the ' +\n",
              "          '<a target=\"_blank\" href=https://colab.research.google.com/notebooks/data_table.ipynb>data table notebook</a>'\n",
              "          + ' to learn more about interactive tables.';\n",
              "        element.innerHTML = '';\n",
              "        dataTable['output_type'] = 'display_data';\n",
              "        await google.colab.output.renderOutput(dataTable, element);\n",
              "        const docLink = document.createElement('div');\n",
              "        docLink.innerHTML = docLinkHtml;\n",
              "        element.appendChild(docLink);\n",
              "      }\n",
              "    </script>\n",
              "  </div>\n",
              "\n",
              "\n",
              "<div id=\"df-b5cdf485-e9aa-4804-bf96-1ae1a7337409\">\n",
              "  <button class=\"colab-df-quickchart\" onclick=\"quickchart('df-b5cdf485-e9aa-4804-bf96-1ae1a7337409')\"\n",
              "            title=\"Suggest charts\"\n",
              "            style=\"display:none;\">\n",
              "\n",
              "<svg xmlns=\"http://www.w3.org/2000/svg\" height=\"24px\"viewBox=\"0 0 24 24\"\n",
              "     width=\"24px\">\n",
              "    <g>\n",
              "        <path d=\"M19 3H5c-1.1 0-2 .9-2 2v14c0 1.1.9 2 2 2h14c1.1 0 2-.9 2-2V5c0-1.1-.9-2-2-2zM9 17H7v-7h2v7zm4 0h-2V7h2v10zm4 0h-2v-4h2v4z\"/>\n",
              "    </g>\n",
              "</svg>\n",
              "  </button>\n",
              "\n",
              "<style>\n",
              "  .colab-df-quickchart {\n",
              "      --bg-color: #E8F0FE;\n",
              "      --fill-color: #1967D2;\n",
              "      --hover-bg-color: #E2EBFA;\n",
              "      --hover-fill-color: #174EA6;\n",
              "      --disabled-fill-color: #AAA;\n",
              "      --disabled-bg-color: #DDD;\n",
              "  }\n",
              "\n",
              "  [theme=dark] .colab-df-quickchart {\n",
              "      --bg-color: #3B4455;\n",
              "      --fill-color: #D2E3FC;\n",
              "      --hover-bg-color: #434B5C;\n",
              "      --hover-fill-color: #FFFFFF;\n",
              "      --disabled-bg-color: #3B4455;\n",
              "      --disabled-fill-color: #666;\n",
              "  }\n",
              "\n",
              "  .colab-df-quickchart {\n",
              "    background-color: var(--bg-color);\n",
              "    border: none;\n",
              "    border-radius: 50%;\n",
              "    cursor: pointer;\n",
              "    display: none;\n",
              "    fill: var(--fill-color);\n",
              "    height: 32px;\n",
              "    padding: 0;\n",
              "    width: 32px;\n",
              "  }\n",
              "\n",
              "  .colab-df-quickchart:hover {\n",
              "    background-color: var(--hover-bg-color);\n",
              "    box-shadow: 0 1px 2px rgba(60, 64, 67, 0.3), 0 1px 3px 1px rgba(60, 64, 67, 0.15);\n",
              "    fill: var(--button-hover-fill-color);\n",
              "  }\n",
              "\n",
              "  .colab-df-quickchart-complete:disabled,\n",
              "  .colab-df-quickchart-complete:disabled:hover {\n",
              "    background-color: var(--disabled-bg-color);\n",
              "    fill: var(--disabled-fill-color);\n",
              "    box-shadow: none;\n",
              "  }\n",
              "\n",
              "  .colab-df-spinner {\n",
              "    border: 2px solid var(--fill-color);\n",
              "    border-color: transparent;\n",
              "    border-bottom-color: var(--fill-color);\n",
              "    animation:\n",
              "      spin 1s steps(1) infinite;\n",
              "  }\n",
              "\n",
              "  @keyframes spin {\n",
              "    0% {\n",
              "      border-color: transparent;\n",
              "      border-bottom-color: var(--fill-color);\n",
              "      border-left-color: var(--fill-color);\n",
              "    }\n",
              "    20% {\n",
              "      border-color: transparent;\n",
              "      border-left-color: var(--fill-color);\n",
              "      border-top-color: var(--fill-color);\n",
              "    }\n",
              "    30% {\n",
              "      border-color: transparent;\n",
              "      border-left-color: var(--fill-color);\n",
              "      border-top-color: var(--fill-color);\n",
              "      border-right-color: var(--fill-color);\n",
              "    }\n",
              "    40% {\n",
              "      border-color: transparent;\n",
              "      border-right-color: var(--fill-color);\n",
              "      border-top-color: var(--fill-color);\n",
              "    }\n",
              "    60% {\n",
              "      border-color: transparent;\n",
              "      border-right-color: var(--fill-color);\n",
              "    }\n",
              "    80% {\n",
              "      border-color: transparent;\n",
              "      border-right-color: var(--fill-color);\n",
              "      border-bottom-color: var(--fill-color);\n",
              "    }\n",
              "    90% {\n",
              "      border-color: transparent;\n",
              "      border-bottom-color: var(--fill-color);\n",
              "    }\n",
              "  }\n",
              "</style>\n",
              "\n",
              "  <script>\n",
              "    async function quickchart(key) {\n",
              "      const quickchartButtonEl =\n",
              "        document.querySelector('#' + key + ' button');\n",
              "      quickchartButtonEl.disabled = true;  // To prevent multiple clicks.\n",
              "      quickchartButtonEl.classList.add('colab-df-spinner');\n",
              "      try {\n",
              "        const charts = await google.colab.kernel.invokeFunction(\n",
              "            'suggestCharts', [key], {});\n",
              "      } catch (error) {\n",
              "        console.error('Error during call to suggestCharts:', error);\n",
              "      }\n",
              "      quickchartButtonEl.classList.remove('colab-df-spinner');\n",
              "      quickchartButtonEl.classList.add('colab-df-quickchart-complete');\n",
              "    }\n",
              "    (() => {\n",
              "      let quickchartButtonEl =\n",
              "        document.querySelector('#df-b5cdf485-e9aa-4804-bf96-1ae1a7337409 button');\n",
              "      quickchartButtonEl.style.display =\n",
              "        google.colab.kernel.accessAllowed ? 'block' : 'none';\n",
              "    })();\n",
              "  </script>\n",
              "</div>\n",
              "    </div>\n",
              "  </div>\n"
            ]
          },
          "metadata": {},
          "execution_count": 30
        }
      ]
    },
    {
      "cell_type": "code",
      "source": [
        "# Identify Key Features\n",
        "# Hour: 16: 16:00 - 16:59, 17: 17:00 - 17:59\n",
        "# Colision_Configuration: Rear-end collision\n",
        "# Rd_Configuration - 1: Non-intersection (e.g., middle of blockNon-intersection), 2: At an intersection of at least two public roadways\n",
        "# Weather - 1: Clear and sunny, 3: Raining\n",
        "# Rd_Surface - 1: Dry, normal, 2: Wet\n",
        "# Rd_Alignment - 1: Straight and level\n",
        "# Trafic_Control - 1: Traffic signals fully operational, 18: No control present\n",
        "# Vehicle_Type - 1: Light Duty\n",
        "# Vehicle_Year: 2000 and 2002\n",
        "# Driver_Sex: 1: Male, 2: Female\n",
        "# Driver_Age: 17, 18, 19\n",
        "# No change is vehicle type amoung groups"
      ],
      "metadata": {
        "id": "Mng6_TJYsHq9"
      },
      "execution_count": null,
      "outputs": []
    },
    {
      "cell_type": "code",
      "source": [
        "# Assign Labels or Descriptions (Based on your interpretation)\n",
        "data = df\n",
        "\n",
        "cluster_descriptions = {\n",
        "    0: '16, Rear-end collision, Non-intersection, Clear & Sunny, Dry normal, Straight and level, no controlled traffic, Light Duty Vehicle, 2002 model, female, 18 years old',\n",
        "    1: '16, Rear-end collision, Intersection, Clear & Sunny, Dry normal, Straight and level, traffic signal, Light Duty Vehicle, 2002 model, female, 17 years old',\n",
        "    2: '16, Rear-end collision, Non-intersection, Snowing, Wet, Straight and level, no controlled traffic, Light Duty Vehicle, 2000 model, female, 19 years old',\n",
        "    3: '17, Rear-end collision, Intersection, Raining, Wet, Straight and level, traffic signal, Light Duty Vehicle, 2000 model, male, 18 years old'\n",
        "}\n",
        "data['Cluster_Label'] = data['Cluster'].map(cluster_descriptions)\n",
        "data"
      ],
      "metadata": {
        "colab": {
          "base_uri": "https://localhost:8080/",
          "height": 964
        },
        "id": "feLPxyw1s9so",
        "outputId": "a30b6952-8218-4cc2-d0a9-0c191008d339"
      },
      "execution_count": null,
      "outputs": [
        {
          "output_type": "execute_result",
          "data": {
            "text/plain": [
              "         Hour  Colision_Configuration  Rd_Configuration  Weather  Rd_Surface  \\\n",
              "661002     11                      23                 1        2           1   \n",
              "3478168    11                      41                 1        1           1   \n",
              "511436     17                      21                 2        2           1   \n",
              "258858     22                      34                 2        1           1   \n",
              "342248     16                       6                 1        4           5   \n",
              "...       ...                     ...               ...      ...         ...   \n",
              "3564194    14                      31                 2        2           3   \n",
              "4777832    11                      21                 1        1           1   \n",
              "3444018    20                      33                 2        1           1   \n",
              "5197752     8                      36                 2        1           1   \n",
              "5070252    13                      21                 2        1           1   \n",
              "\n",
              "         Rd_Alignment  Trafic_Control  Vehicle_Type  Vehicle_Year  Driver_Sex  \\\n",
              "661002              1              18             1          1996           1   \n",
              "3478168             1              18             1          2002           2   \n",
              "511436              1               2             1          1998           1   \n",
              "258858              1               3            11          1995           2   \n",
              "342248              1              18             1          1997           2   \n",
              "...               ...             ...           ...           ...         ...   \n",
              "3564194             1              18            20          2004           2   \n",
              "4777832             1              18             1          2006           2   \n",
              "3444018             1              18             1          2003           2   \n",
              "5197752             1               3             1          2007           2   \n",
              "5070252             1               3             1          2000           2   \n",
              "\n",
              "         Driver_Age  Cluster  \\\n",
              "661002           33        0   \n",
              "3478168          38        0   \n",
              "511436           43        1   \n",
              "258858           45        1   \n",
              "342248           58        2   \n",
              "...             ...      ...   \n",
              "3564194          47        0   \n",
              "4777832          67        0   \n",
              "3444018          30        1   \n",
              "5197752          64        1   \n",
              "5070252          49        1   \n",
              "\n",
              "                                             Cluster_Label  \n",
              "661002   16, Rear-end collision, Non-intersection, Clea...  \n",
              "3478168  16, Rear-end collision, Non-intersection, Clea...  \n",
              "511436   16, Rear-end collision, Intersection, Clear & ...  \n",
              "258858   16, Rear-end collision, Intersection, Clear & ...  \n",
              "342248   16, Rear-end collision, Non-intersection, Snow...  \n",
              "...                                                    ...  \n",
              "3564194  16, Rear-end collision, Non-intersection, Clea...  \n",
              "4777832  16, Rear-end collision, Non-intersection, Clea...  \n",
              "3444018  16, Rear-end collision, Intersection, Clear & ...  \n",
              "5197752  16, Rear-end collision, Intersection, Clear & ...  \n",
              "5070252  16, Rear-end collision, Intersection, Clear & ...  \n",
              "\n",
              "[10000 rows x 13 columns]"
            ],
            "text/html": [
              "\n",
              "  <div id=\"df-57691a24-e762-4805-bf5d-1cfa48abd010\" class=\"colab-df-container\">\n",
              "    <div>\n",
              "<style scoped>\n",
              "    .dataframe tbody tr th:only-of-type {\n",
              "        vertical-align: middle;\n",
              "    }\n",
              "\n",
              "    .dataframe tbody tr th {\n",
              "        vertical-align: top;\n",
              "    }\n",
              "\n",
              "    .dataframe thead th {\n",
              "        text-align: right;\n",
              "    }\n",
              "</style>\n",
              "<table border=\"1\" class=\"dataframe\">\n",
              "  <thead>\n",
              "    <tr style=\"text-align: right;\">\n",
              "      <th></th>\n",
              "      <th>Hour</th>\n",
              "      <th>Colision_Configuration</th>\n",
              "      <th>Rd_Configuration</th>\n",
              "      <th>Weather</th>\n",
              "      <th>Rd_Surface</th>\n",
              "      <th>Rd_Alignment</th>\n",
              "      <th>Trafic_Control</th>\n",
              "      <th>Vehicle_Type</th>\n",
              "      <th>Vehicle_Year</th>\n",
              "      <th>Driver_Sex</th>\n",
              "      <th>Driver_Age</th>\n",
              "      <th>Cluster</th>\n",
              "      <th>Cluster_Label</th>\n",
              "    </tr>\n",
              "  </thead>\n",
              "  <tbody>\n",
              "    <tr>\n",
              "      <th>661002</th>\n",
              "      <td>11</td>\n",
              "      <td>23</td>\n",
              "      <td>1</td>\n",
              "      <td>2</td>\n",
              "      <td>1</td>\n",
              "      <td>1</td>\n",
              "      <td>18</td>\n",
              "      <td>1</td>\n",
              "      <td>1996</td>\n",
              "      <td>1</td>\n",
              "      <td>33</td>\n",
              "      <td>0</td>\n",
              "      <td>16, Rear-end collision, Non-intersection, Clea...</td>\n",
              "    </tr>\n",
              "    <tr>\n",
              "      <th>3478168</th>\n",
              "      <td>11</td>\n",
              "      <td>41</td>\n",
              "      <td>1</td>\n",
              "      <td>1</td>\n",
              "      <td>1</td>\n",
              "      <td>1</td>\n",
              "      <td>18</td>\n",
              "      <td>1</td>\n",
              "      <td>2002</td>\n",
              "      <td>2</td>\n",
              "      <td>38</td>\n",
              "      <td>0</td>\n",
              "      <td>16, Rear-end collision, Non-intersection, Clea...</td>\n",
              "    </tr>\n",
              "    <tr>\n",
              "      <th>511436</th>\n",
              "      <td>17</td>\n",
              "      <td>21</td>\n",
              "      <td>2</td>\n",
              "      <td>2</td>\n",
              "      <td>1</td>\n",
              "      <td>1</td>\n",
              "      <td>2</td>\n",
              "      <td>1</td>\n",
              "      <td>1998</td>\n",
              "      <td>1</td>\n",
              "      <td>43</td>\n",
              "      <td>1</td>\n",
              "      <td>16, Rear-end collision, Intersection, Clear &amp; ...</td>\n",
              "    </tr>\n",
              "    <tr>\n",
              "      <th>258858</th>\n",
              "      <td>22</td>\n",
              "      <td>34</td>\n",
              "      <td>2</td>\n",
              "      <td>1</td>\n",
              "      <td>1</td>\n",
              "      <td>1</td>\n",
              "      <td>3</td>\n",
              "      <td>11</td>\n",
              "      <td>1995</td>\n",
              "      <td>2</td>\n",
              "      <td>45</td>\n",
              "      <td>1</td>\n",
              "      <td>16, Rear-end collision, Intersection, Clear &amp; ...</td>\n",
              "    </tr>\n",
              "    <tr>\n",
              "      <th>342248</th>\n",
              "      <td>16</td>\n",
              "      <td>6</td>\n",
              "      <td>1</td>\n",
              "      <td>4</td>\n",
              "      <td>5</td>\n",
              "      <td>1</td>\n",
              "      <td>18</td>\n",
              "      <td>1</td>\n",
              "      <td>1997</td>\n",
              "      <td>2</td>\n",
              "      <td>58</td>\n",
              "      <td>2</td>\n",
              "      <td>16, Rear-end collision, Non-intersection, Snow...</td>\n",
              "    </tr>\n",
              "    <tr>\n",
              "      <th>...</th>\n",
              "      <td>...</td>\n",
              "      <td>...</td>\n",
              "      <td>...</td>\n",
              "      <td>...</td>\n",
              "      <td>...</td>\n",
              "      <td>...</td>\n",
              "      <td>...</td>\n",
              "      <td>...</td>\n",
              "      <td>...</td>\n",
              "      <td>...</td>\n",
              "      <td>...</td>\n",
              "      <td>...</td>\n",
              "      <td>...</td>\n",
              "    </tr>\n",
              "    <tr>\n",
              "      <th>3564194</th>\n",
              "      <td>14</td>\n",
              "      <td>31</td>\n",
              "      <td>2</td>\n",
              "      <td>2</td>\n",
              "      <td>3</td>\n",
              "      <td>1</td>\n",
              "      <td>18</td>\n",
              "      <td>20</td>\n",
              "      <td>2004</td>\n",
              "      <td>2</td>\n",
              "      <td>47</td>\n",
              "      <td>0</td>\n",
              "      <td>16, Rear-end collision, Non-intersection, Clea...</td>\n",
              "    </tr>\n",
              "    <tr>\n",
              "      <th>4777832</th>\n",
              "      <td>11</td>\n",
              "      <td>21</td>\n",
              "      <td>1</td>\n",
              "      <td>1</td>\n",
              "      <td>1</td>\n",
              "      <td>1</td>\n",
              "      <td>18</td>\n",
              "      <td>1</td>\n",
              "      <td>2006</td>\n",
              "      <td>2</td>\n",
              "      <td>67</td>\n",
              "      <td>0</td>\n",
              "      <td>16, Rear-end collision, Non-intersection, Clea...</td>\n",
              "    </tr>\n",
              "    <tr>\n",
              "      <th>3444018</th>\n",
              "      <td>20</td>\n",
              "      <td>33</td>\n",
              "      <td>2</td>\n",
              "      <td>1</td>\n",
              "      <td>1</td>\n",
              "      <td>1</td>\n",
              "      <td>18</td>\n",
              "      <td>1</td>\n",
              "      <td>2003</td>\n",
              "      <td>2</td>\n",
              "      <td>30</td>\n",
              "      <td>1</td>\n",
              "      <td>16, Rear-end collision, Intersection, Clear &amp; ...</td>\n",
              "    </tr>\n",
              "    <tr>\n",
              "      <th>5197752</th>\n",
              "      <td>8</td>\n",
              "      <td>36</td>\n",
              "      <td>2</td>\n",
              "      <td>1</td>\n",
              "      <td>1</td>\n",
              "      <td>1</td>\n",
              "      <td>3</td>\n",
              "      <td>1</td>\n",
              "      <td>2007</td>\n",
              "      <td>2</td>\n",
              "      <td>64</td>\n",
              "      <td>1</td>\n",
              "      <td>16, Rear-end collision, Intersection, Clear &amp; ...</td>\n",
              "    </tr>\n",
              "    <tr>\n",
              "      <th>5070252</th>\n",
              "      <td>13</td>\n",
              "      <td>21</td>\n",
              "      <td>2</td>\n",
              "      <td>1</td>\n",
              "      <td>1</td>\n",
              "      <td>1</td>\n",
              "      <td>3</td>\n",
              "      <td>1</td>\n",
              "      <td>2000</td>\n",
              "      <td>2</td>\n",
              "      <td>49</td>\n",
              "      <td>1</td>\n",
              "      <td>16, Rear-end collision, Intersection, Clear &amp; ...</td>\n",
              "    </tr>\n",
              "  </tbody>\n",
              "</table>\n",
              "<p>10000 rows × 13 columns</p>\n",
              "</div>\n",
              "    <div class=\"colab-df-buttons\">\n",
              "\n",
              "  <div class=\"colab-df-container\">\n",
              "    <button class=\"colab-df-convert\" onclick=\"convertToInteractive('df-57691a24-e762-4805-bf5d-1cfa48abd010')\"\n",
              "            title=\"Convert this dataframe to an interactive table.\"\n",
              "            style=\"display:none;\">\n",
              "\n",
              "  <svg xmlns=\"http://www.w3.org/2000/svg\" height=\"24px\" viewBox=\"0 -960 960 960\">\n",
              "    <path d=\"M120-120v-720h720v720H120Zm60-500h600v-160H180v160Zm220 220h160v-160H400v160Zm0 220h160v-160H400v160ZM180-400h160v-160H180v160Zm440 0h160v-160H620v160ZM180-180h160v-160H180v160Zm440 0h160v-160H620v160Z\"/>\n",
              "  </svg>\n",
              "    </button>\n",
              "\n",
              "  <style>\n",
              "    .colab-df-container {\n",
              "      display:flex;\n",
              "      gap: 12px;\n",
              "    }\n",
              "\n",
              "    .colab-df-convert {\n",
              "      background-color: #E8F0FE;\n",
              "      border: none;\n",
              "      border-radius: 50%;\n",
              "      cursor: pointer;\n",
              "      display: none;\n",
              "      fill: #1967D2;\n",
              "      height: 32px;\n",
              "      padding: 0 0 0 0;\n",
              "      width: 32px;\n",
              "    }\n",
              "\n",
              "    .colab-df-convert:hover {\n",
              "      background-color: #E2EBFA;\n",
              "      box-shadow: 0px 1px 2px rgba(60, 64, 67, 0.3), 0px 1px 3px 1px rgba(60, 64, 67, 0.15);\n",
              "      fill: #174EA6;\n",
              "    }\n",
              "\n",
              "    .colab-df-buttons div {\n",
              "      margin-bottom: 4px;\n",
              "    }\n",
              "\n",
              "    [theme=dark] .colab-df-convert {\n",
              "      background-color: #3B4455;\n",
              "      fill: #D2E3FC;\n",
              "    }\n",
              "\n",
              "    [theme=dark] .colab-df-convert:hover {\n",
              "      background-color: #434B5C;\n",
              "      box-shadow: 0px 1px 3px 1px rgba(0, 0, 0, 0.15);\n",
              "      filter: drop-shadow(0px 1px 2px rgba(0, 0, 0, 0.3));\n",
              "      fill: #FFFFFF;\n",
              "    }\n",
              "  </style>\n",
              "\n",
              "    <script>\n",
              "      const buttonEl =\n",
              "        document.querySelector('#df-57691a24-e762-4805-bf5d-1cfa48abd010 button.colab-df-convert');\n",
              "      buttonEl.style.display =\n",
              "        google.colab.kernel.accessAllowed ? 'block' : 'none';\n",
              "\n",
              "      async function convertToInteractive(key) {\n",
              "        const element = document.querySelector('#df-57691a24-e762-4805-bf5d-1cfa48abd010');\n",
              "        const dataTable =\n",
              "          await google.colab.kernel.invokeFunction('convertToInteractive',\n",
              "                                                    [key], {});\n",
              "        if (!dataTable) return;\n",
              "\n",
              "        const docLinkHtml = 'Like what you see? Visit the ' +\n",
              "          '<a target=\"_blank\" href=https://colab.research.google.com/notebooks/data_table.ipynb>data table notebook</a>'\n",
              "          + ' to learn more about interactive tables.';\n",
              "        element.innerHTML = '';\n",
              "        dataTable['output_type'] = 'display_data';\n",
              "        await google.colab.output.renderOutput(dataTable, element);\n",
              "        const docLink = document.createElement('div');\n",
              "        docLink.innerHTML = docLinkHtml;\n",
              "        element.appendChild(docLink);\n",
              "      }\n",
              "    </script>\n",
              "  </div>\n",
              "\n",
              "\n",
              "<div id=\"df-387be58e-57ff-4812-af2f-332aa2724a40\">\n",
              "  <button class=\"colab-df-quickchart\" onclick=\"quickchart('df-387be58e-57ff-4812-af2f-332aa2724a40')\"\n",
              "            title=\"Suggest charts\"\n",
              "            style=\"display:none;\">\n",
              "\n",
              "<svg xmlns=\"http://www.w3.org/2000/svg\" height=\"24px\"viewBox=\"0 0 24 24\"\n",
              "     width=\"24px\">\n",
              "    <g>\n",
              "        <path d=\"M19 3H5c-1.1 0-2 .9-2 2v14c0 1.1.9 2 2 2h14c1.1 0 2-.9 2-2V5c0-1.1-.9-2-2-2zM9 17H7v-7h2v7zm4 0h-2V7h2v10zm4 0h-2v-4h2v4z\"/>\n",
              "    </g>\n",
              "</svg>\n",
              "  </button>\n",
              "\n",
              "<style>\n",
              "  .colab-df-quickchart {\n",
              "      --bg-color: #E8F0FE;\n",
              "      --fill-color: #1967D2;\n",
              "      --hover-bg-color: #E2EBFA;\n",
              "      --hover-fill-color: #174EA6;\n",
              "      --disabled-fill-color: #AAA;\n",
              "      --disabled-bg-color: #DDD;\n",
              "  }\n",
              "\n",
              "  [theme=dark] .colab-df-quickchart {\n",
              "      --bg-color: #3B4455;\n",
              "      --fill-color: #D2E3FC;\n",
              "      --hover-bg-color: #434B5C;\n",
              "      --hover-fill-color: #FFFFFF;\n",
              "      --disabled-bg-color: #3B4455;\n",
              "      --disabled-fill-color: #666;\n",
              "  }\n",
              "\n",
              "  .colab-df-quickchart {\n",
              "    background-color: var(--bg-color);\n",
              "    border: none;\n",
              "    border-radius: 50%;\n",
              "    cursor: pointer;\n",
              "    display: none;\n",
              "    fill: var(--fill-color);\n",
              "    height: 32px;\n",
              "    padding: 0;\n",
              "    width: 32px;\n",
              "  }\n",
              "\n",
              "  .colab-df-quickchart:hover {\n",
              "    background-color: var(--hover-bg-color);\n",
              "    box-shadow: 0 1px 2px rgba(60, 64, 67, 0.3), 0 1px 3px 1px rgba(60, 64, 67, 0.15);\n",
              "    fill: var(--button-hover-fill-color);\n",
              "  }\n",
              "\n",
              "  .colab-df-quickchart-complete:disabled,\n",
              "  .colab-df-quickchart-complete:disabled:hover {\n",
              "    background-color: var(--disabled-bg-color);\n",
              "    fill: var(--disabled-fill-color);\n",
              "    box-shadow: none;\n",
              "  }\n",
              "\n",
              "  .colab-df-spinner {\n",
              "    border: 2px solid var(--fill-color);\n",
              "    border-color: transparent;\n",
              "    border-bottom-color: var(--fill-color);\n",
              "    animation:\n",
              "      spin 1s steps(1) infinite;\n",
              "  }\n",
              "\n",
              "  @keyframes spin {\n",
              "    0% {\n",
              "      border-color: transparent;\n",
              "      border-bottom-color: var(--fill-color);\n",
              "      border-left-color: var(--fill-color);\n",
              "    }\n",
              "    20% {\n",
              "      border-color: transparent;\n",
              "      border-left-color: var(--fill-color);\n",
              "      border-top-color: var(--fill-color);\n",
              "    }\n",
              "    30% {\n",
              "      border-color: transparent;\n",
              "      border-left-color: var(--fill-color);\n",
              "      border-top-color: var(--fill-color);\n",
              "      border-right-color: var(--fill-color);\n",
              "    }\n",
              "    40% {\n",
              "      border-color: transparent;\n",
              "      border-right-color: var(--fill-color);\n",
              "      border-top-color: var(--fill-color);\n",
              "    }\n",
              "    60% {\n",
              "      border-color: transparent;\n",
              "      border-right-color: var(--fill-color);\n",
              "    }\n",
              "    80% {\n",
              "      border-color: transparent;\n",
              "      border-right-color: var(--fill-color);\n",
              "      border-bottom-color: var(--fill-color);\n",
              "    }\n",
              "    90% {\n",
              "      border-color: transparent;\n",
              "      border-bottom-color: var(--fill-color);\n",
              "    }\n",
              "  }\n",
              "</style>\n",
              "\n",
              "  <script>\n",
              "    async function quickchart(key) {\n",
              "      const quickchartButtonEl =\n",
              "        document.querySelector('#' + key + ' button');\n",
              "      quickchartButtonEl.disabled = true;  // To prevent multiple clicks.\n",
              "      quickchartButtonEl.classList.add('colab-df-spinner');\n",
              "      try {\n",
              "        const charts = await google.colab.kernel.invokeFunction(\n",
              "            'suggestCharts', [key], {});\n",
              "      } catch (error) {\n",
              "        console.error('Error during call to suggestCharts:', error);\n",
              "      }\n",
              "      quickchartButtonEl.classList.remove('colab-df-spinner');\n",
              "      quickchartButtonEl.classList.add('colab-df-quickchart-complete');\n",
              "    }\n",
              "    (() => {\n",
              "      let quickchartButtonEl =\n",
              "        document.querySelector('#df-387be58e-57ff-4812-af2f-332aa2724a40 button');\n",
              "      quickchartButtonEl.style.display =\n",
              "        google.colab.kernel.accessAllowed ? 'block' : 'none';\n",
              "    })();\n",
              "  </script>\n",
              "</div>\n",
              "    </div>\n",
              "  </div>\n"
            ]
          },
          "metadata": {},
          "execution_count": 34
        }
      ]
    }
  ],
  "metadata": {
    "kernelspec": {
      "display_name": "Python 3",
      "name": "python3"
    },
    "language_info": {
      "codemirror_mode": {
        "name": "ipython",
        "version": 3
      },
      "file_extension": ".py",
      "mimetype": "text/x-python",
      "name": "python",
      "nbconvert_exporter": "python",
      "pygments_lexer": "ipython3",
      "version": "3.9.18"
    },
    "orig_nbformat": 4,
    "colab": {
      "provenance": [],
      "gpuType": "T4"
    },
    "accelerator": "GPU"
  },
  "nbformat": 4,
  "nbformat_minor": 0
}